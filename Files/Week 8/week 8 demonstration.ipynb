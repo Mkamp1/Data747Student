{
 "cells": [
  {
   "attachments": {},
   "cell_type": "markdown",
   "metadata": {},
   "source": [
    "## Lab Assignment: Data Cleaning and Preparation\n",
    "\n",
    "### Objective: To apply the techniques learned in class to clean and prepare data for analysis. Specifically, students will learn how to handle missing values, duplicates, and outliers in data. By the end of the lab assignment, students should be able to clean and prepare data for further analysis using Python.\n",
    "\n",
    "### Instructions:\n",
    "\n",
    "1. Download and import the iris dataset.\n",
    "2. Use load the data into a DataFrame.\n",
    "3. Explore the dataset and identify missing values, duplicates, and outliers.\n",
    "4. Use appropriate techniques to handle missing values, duplicates, and outliers.\n",
    "5. Perform basic data analysis on the cleaned dataset to answer the following questions.\n",
    "6. Save the cleaned dataset to a CSV file for further analysis.\n",
    "\n",
    "### Deliverables:\n",
    "\n",
    "1. A Python file containing the four functions/programs.\n",
    "2. A text file containing sample inputs and outputs for each function/program.\n",
    "\n",
    "### Grading Criteria:\n",
    "\n",
    "1. Correctness and functionality of each function/program\n",
    "2. Proper use of basic control structures and functions\n",
    "3. Code readability and organization\n",
    "4. Note: Students are encouraged to work collaboratively, but each student must submit their own work. In addition, students should utilize version control (e.g. GitHub) to  manage their code and collaborate with peers."
   ]
  },
  {
   "attachments": {},
   "cell_type": "markdown",
   "metadata": {},
   "source": [
    "Here is an example using the iris dataset: \n",
    "\n",
    "In this code, we load the iris dataset and create a pandas DataFrame from it. We then use the DataFrame to answer the six assignment questions as follows:\n",
    "\n",
    "1. Print the number of rows and columns in the DataFrame using the shape attribute of the DataFrame.\n",
    "2. Check for missing values in the DataFrame using the isnull() method and print the sum of missing values in each column using the sum() method.\n",
    "3. Check for duplicates in the DataFrame using the duplicated() method and print the sum of duplicates using the sum() method.\n",
    "4. Note that there are no missing values in the iris dataset, so we don't need to handle them.\n",
    "5. Remove duplicate rows from the DataFrame using the drop_duplicates() method and print the number of rows in the DataFrame after removing duplicates.\n",
    "6. Use boxplots to identify outliers in the 'sepal width (cm)' feature, then remove any data points that fall outside of the 1.5 * IQR range using NumPy and pandas functions. We print the number of rows in the DataFrame after removing outliers."
   ]
  },
  {
   "cell_type": "code",
   "execution_count": 1,
   "metadata": {},
   "outputs": [],
   "source": [
    "from sklearn.datasets import load_iris\n",
    "import matplotlib.pyplot as plt\n",
    "import pandas as pd\n",
    "import numpy as np\n",
    "\n",
    "# Load iris dataset\n",
    "iris = load_iris()\n",
    "\n",
    "# Create pandas DataFrame from iris dataset\n",
    "df = pd.DataFrame(data=iris['data'], columns=iris['feature_names'])\n",
    "\n",
    "# Add target variable to the DataFrame\n",
    "df['target'] = iris['target']"
   ]
  },
  {
   "cell_type": "code",
   "execution_count": 29,
   "metadata": {},
   "outputs": [
    {
     "name": "stdout",
     "output_type": "stream",
     "text": [
      "Number of rows: 150\n",
      "Number of columns: 5\n",
      "Check for missing values: sepal length (cm)    0\n",
      "sepal width (cm)     0\n",
      "petal length (cm)    0\n",
      "petal width (cm)     0\n",
      "target               0\n",
      "dtype: int64\n",
      "Check for duplicates: 1\n",
      "There are no missing values in the iris dataset, so no action needed.  If you did have missing values you would put an appropriate function here to handle them.\n",
      "Number of rows before removing missing values: 150\n",
      "Number of rows after removing duplicates: 149\n"
     ]
    }
   ],
   "source": [
    "# 1. How many rows and columns does the dataset have?\n",
    "print(f\"Number of rows: {df.shape[0]}\")\n",
    "print(f\"Number of columns: {df.shape[1]}\")\n",
    "\n",
    "# 2. How many missing values are there in each column?\n",
    "print(f\"Check for missing values: {df.isnull().sum()}\")\n",
    "\n",
    "# 3. How many duplicates are there in the dataset?\n",
    "print(f\"Check for duplicates: {df.duplicated().sum()}\")\n",
    "\n",
    "# 4. How would you handle missing values in the dataset?\n",
    "print(f\"There are no missing values in the iris dataset, so no action needed.  If you did have missing values you would put an appropriate function here to handle them.\")\n",
    "\n",
    "# 5. How would you handle duplicates in the dataset?\n",
    "# We can drop the duplicate rows from the DataFrame as follows:\n",
    "print(f\"Number of rows before removing missing values: {df.shape[0]}\")\n",
    "df.drop_duplicates(inplace=True)\n",
    "print(f\"Number of rows after removing duplicates: {df.shape[0]}\")\n"
   ]
  },
  {
   "attachments": {},
   "cell_type": "markdown",
   "metadata": {},
   "source": [
    "Outlier Detection and Removal"
   ]
  },
  {
   "cell_type": "code",
   "execution_count": 2,
   "metadata": {},
   "outputs": [
    {
     "name": "stdout",
     "output_type": "stream",
     "text": [
      "Number of rows before outlier detection and removal: 150\n"
     ]
    },
    {
     "data": {
      "image/png": "[encoded data removed]",
      "text/plain": [
       "<Figure size 640x480 with 1 Axes>"
      ]
     },
     "metadata": {},
     "output_type": "display_data"
    },
    {
     "name": "stdout",
     "output_type": "stream",
     "text": [
      "Number of rows after removing outliers: 147\n"
     ]
    }
   ],
   "source": [
    "# 6. Are there any outliers in the dataset? If so, how would you handle them?\n",
    "print(f\"Number of rows before outlier detection and removal: {df.shape[0]}\")\n",
    "\n",
    "for feature in iris['feature_names']:\n",
    "    df.boxplot(column=[feature])    \n",
    "# The boxplots show that there are outliers in the 'sepal width (cm)' feature.\n",
    "plt.show()\n",
    "\n",
    "# To handle outliers, we can remove any data points that fall outside of the 1.5 * IQR range:\n",
    "q1, q3 = np.percentile(df['sepal width (cm)'], [25, 75])\n",
    "iqr = q3 - q1\n",
    "upper_bound = q3 + 1.5 * iqr\n",
    "df = df[df['sepal width (cm)'] <= upper_bound]\n",
    "print(f\"Number of rows after removing outliers: {df.shape[0]}\")"
   ]
  },
  {
   "attachments": {},
   "cell_type": "markdown",
   "metadata": {},
   "source": [
    "Refresher from last week when we discussed Pandas_Profiling.  "
   ]
  },
  {
   "cell_type": "code",
   "execution_count": null,
   "metadata": {},
   "outputs": [
    {
     "data": {
      "application/vnd.jupyter.widget-view+json": {
       "model_id": "9cbe3ebfdd634c07916c429257dae212",
       "version_major": 2,
       "version_minor": 0
      },
      "text/plain": [
       "Summarize dataset:   0%|          | 0/5 [00:00<?, ?it/s]"
      ]
     },
     "metadata": {},
     "output_type": "display_data"
    },
    {
     "data": {
      "application/vnd.jupyter.widget-view+json": {
       "model_id": "b695c8ae306449a0bf6ad9d9d316a117",
       "version_major": 2,
       "version_minor": 0
      },
      "text/plain": [
       "Generate report structure:   0%|          | 0/1 [00:00<?, ?it/s]"
      ]
     },
     "metadata": {},
     "output_type": "display_data"
    },
    {
     "data": {
      "application/vnd.jupyter.widget-view+json": {
       "model_id": "6786e058baa34bcf8fc3dd7617d3897d",
       "version_major": 2,
       "version_minor": 0
      },
      "text/plain": [
       "Render widgets:   0%|          | 0/1 [00:00<?, ?it/s]"
      ]
     },
     "metadata": {},
     "output_type": "display_data"
    },
    {
     "data": {
      "application/vnd.jupyter.widget-view+json": {
       "model_id": "ffd3e07968c247d68ae57fc03a4054e5",
       "version_major": 2,
       "version_minor": 0
      },
      "text/plain": [
       "VBox(children=(Tab(children=(Tab(children=(GridBox(children=(VBox(children=(GridspecLayout(children=(HTML(valu…"
      ]
     },
     "metadata": {},
     "output_type": "display_data"
    }
   ],
   "source": [
    "import pandas as pd\n",
    "from ydata_profiling import ProfileReport\n",
    "\n",
    "# Load iris dataset\n",
    "iris = load_iris()\n",
    "\n",
    "# Create pandas DataFrame from iris dataset\n",
    "df = pd.DataFrame(data=iris['data'], columns=iris['feature_names'])\n",
    "\n",
    "# Add target variable to the DataFrame\n",
    "df['target'] = iris['target']\n",
    "\n",
    "profile = ProfileReport(df, title='Pandas Profiling Report', explorative=True)\n",
    "profile.to_widgets()"
   ]
  }
 ],
 "metadata": {
  "kernelspec": {
   "display_name": "Python 3",
   "language": "python",
   "name": "python3"
  },
  "language_info": {
   "codemirror_mode": {
    "name": "ipython",
    "version": 3
   },
   "file_extension": ".py",
   "mimetype": "text/x-python",
   "name": "python",
   "nbconvert_exporter": "python",
   "pygments_lexer": "ipython3",
   "version": "3.11.4"
  },
  "orig_nbformat": 4
 },
 "nbformat": 4,
 "nbformat_minor": 2
}
